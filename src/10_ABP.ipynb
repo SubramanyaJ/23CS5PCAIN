{
  "nbformat": 4,
  "nbformat_minor": 0,
  "metadata": {
    "colab": {
      "provenance": [],
      "authorship_tag": "ABX9TyM8EJ0GaRj6ZdZv9ZmBlKPs",
      "include_colab_link": true
    },
    "kernelspec": {
      "name": "python3",
      "display_name": "Python 3"
    },
    "language_info": {
      "name": "python"
    }
  },
  "cells": [
    {
      "cell_type": "markdown",
      "metadata": {
        "id": "view-in-github",
        "colab_type": "text"
      },
      "source": [
        "<a href=\"https://colab.research.google.com/github/SubramanyaJ/23CS5PCAIN/blob/main/src/10_ABP.ipynb\" target=\"_parent\"><img src=\"https://colab.research.google.com/assets/colab-badge.svg\" alt=\"Open In Colab\"/></a>"
      ]
    },
    {
      "cell_type": "code",
      "execution_count": 5,
      "metadata": {
        "colab": {
          "base_uri": "https://localhost:8080/"
        },
        "id": "Ga4ZbMw5Oe8H",
        "outputId": "adb5037e-0f89-48d1-d482-0402721e6bba"
      },
      "outputs": [
        {
          "output_type": "stream",
          "name": "stdout",
          "text": [
            "Game Tree Before Alpha-Beta Pruning:\n",
            "Node Value: None\n",
            "  Node Value: None\n",
            "    Node Value: None\n",
            "      Node Value: 10\n",
            "      Node Value: 9\n",
            "    Node Value: None\n",
            "      Node Value: 14\n",
            "      Node Value: 18\n",
            "  Node Value: None\n",
            "    Node Value: None\n",
            "      Node Value: 5\n",
            "      Node Value: 4\n",
            "    Node Value: None\n",
            "      Node Value: 50\n",
            "      Node Value: 3\n",
            "Pruned at MAX node (α=14, β=10)\n",
            "Pruned at MIN node (α=10, β=5)\n",
            "\n",
            "Game Tree After Alpha-Beta Pruning:\n",
            "Node Value: 10\n",
            "  Node Value: 10\n",
            "    Node Value: 10\n",
            "      Node Value: 10\n",
            "      Node Value: 9\n",
            "    Node Value: 14\n",
            "      Node Value: 14\n",
            "      Node Value: 18\n",
            "  Node Value: 5\n",
            "    Node Value: 5\n",
            "      Node Value: 5\n",
            "      Node Value: 4\n",
            "    Node Value: None\n",
            "      Node Value: 50\n",
            "      Node Value: 3\n",
            "\n",
            "Final Value at MAX node: 10\n"
          ]
        }
      ],
      "source": [
        "import numpy as np\n",
        "\n",
        "class Node:\n",
        "    def __init__(self, value=None, children=None):\n",
        "        self.value = value\n",
        "        self.children = children if children else []\n",
        "\n",
        "def build_tree_from_array(arr):\n",
        "    leaves = [Node(value=v) for v in arr.flatten()]\n",
        "    num_leaves = len(leaves)\n",
        "\n",
        "\n",
        "    while num_leaves > 1:\n",
        "        new_level = []\n",
        "        for i in range(0, num_leaves, 2):\n",
        "            if i + 1 < num_leaves:\n",
        "                new_level.append(Node(None, [leaves[i], leaves[i + 1]]))\n",
        "            else:\n",
        "                new_level.append(leaves[i])\n",
        "        leaves = new_level\n",
        "        num_leaves = len(leaves)\n",
        "\n",
        "    return leaves[0]\n",
        "\n",
        "def alpha_beta_pruning(node, depth, alpha, beta, maximizing_player):\n",
        "    if not node.children or depth == 0:\n",
        "        return node.value\n",
        "\n",
        "    if maximizing_player:\n",
        "        max_eval = float('-inf')\n",
        "        for child in node.children:\n",
        "            eval = alpha_beta_pruning(child, depth - 1, alpha, beta, False)\n",
        "            max_eval = max(max_eval, eval)\n",
        "            alpha = max(alpha, eval)\n",
        "            if beta <= alpha:\n",
        "                print(f\"Pruned at MAX node (α={alpha}, β={beta})\")\n",
        "                break\n",
        "        node.value = max_eval\n",
        "        return max_eval\n",
        "    else:\n",
        "        min_eval = float('inf')\n",
        "        for child in node.children:\n",
        "            eval = alpha_beta_pruning(child, depth - 1, alpha, beta, True)\n",
        "            min_eval = min(min_eval, eval)\n",
        "            beta = min(beta, eval)\n",
        "            if beta <= alpha:\n",
        "                print(f\"Pruned at MIN node (α={alpha}, β={beta})\")\n",
        "                break\n",
        "        node.value = min_eval\n",
        "        return min_eval\n",
        "\n",
        "def print_tree(node, level=0):\n",
        "    print(\"  \" * level + f\"Node Value: {node.value}\")\n",
        "    for child in node.children:\n",
        "        print_tree(child, level + 1)\n",
        "\n",
        "if __name__ == \"__main__\":\n",
        "    tree_array = np.array([\n",
        "        [10, 9],\n",
        "        [14, 18],\n",
        "        [5, 4],\n",
        "        [50, 3]\n",
        "    ])\n",
        "\n",
        "    root = build_tree_from_array(tree_array)\n",
        "\n",
        "    print(\"Game Tree Before Alpha-Beta Pruning:\")\n",
        "    print_tree(root)\n",
        "\n",
        "    depth = int(np.log2(tree_array.size))\n",
        "    final_value = alpha_beta_pruning(root, depth, alpha=float('-inf'), beta=float('inf'), maximizing_player=True)\n",
        "\n",
        "    print(\"\\nGame Tree After Alpha-Beta Pruning:\")\n",
        "    print_tree(root)\n",
        "\n",
        "    print(f\"\\nFinal Value at MAX node: {final_value}\")\n"
      ]
    }
  ]
}