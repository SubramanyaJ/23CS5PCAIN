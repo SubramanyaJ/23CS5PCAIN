{
  "nbformat": 4,
  "nbformat_minor": 0,
  "metadata": {
    "colab": {
      "provenance": [],
      "authorship_tag": "ABX9TyPFdat6LMMV4jMknRzHckks",
      "include_colab_link": true
    },
    "kernelspec": {
      "name": "python3",
      "display_name": "Python 3"
    },
    "language_info": {
      "name": "python"
    }
  },
  "cells": [
    {
      "cell_type": "markdown",
      "metadata": {
        "id": "view-in-github",
        "colab_type": "text"
      },
      "source": [
        "<a href=\"https://colab.research.google.com/github/SubramanyaJ/23CS5PCAIN/blob/main/src/01_Tic_Tac_Toe.ipynb\" target=\"_parent\"><img src=\"https://colab.research.google.com/assets/colab-badge.svg\" alt=\"Open In Colab\"/></a>"
      ]
    },
    {
      "cell_type": "code",
      "execution_count": 1,
      "metadata": {
        "colab": {
          "base_uri": "https://localhost:8080/"
        },
        "id": "ccogrCHubVPK",
        "outputId": "d92da0f1-8d4d-4a2f-8c2a-43add278d535"
      },
      "outputs": [
        {
          "output_type": "stream",
          "name": "stdout",
          "text": [
            "\n",
            "Cell Mapping:\n",
            "1 | 2 | 3\n",
            "- - - - - - -\n",
            "4 | 5 | 6\n",
            "- - - - - - -\n",
            "7 | 8 | 9\n",
            "\n",
            "  |   |  \n",
            "---------\n",
            "  |   |  \n",
            "---------\n",
            "  |   |  \n",
            "---------\n",
            "Player X, enter the cell number (1-9): 1\n",
            "X |   |  \n",
            "---------\n",
            "  |   |  \n",
            "---------\n",
            "  |   |  \n",
            "---------\n",
            "Player O, enter the cell number (1-9): 2\n",
            "X | O |  \n",
            "---------\n",
            "  |   |  \n",
            "---------\n",
            "  |   |  \n",
            "---------\n",
            "Player X, enter the cell number (1-9): 5\n",
            "X | O |  \n",
            "---------\n",
            "  | X |  \n",
            "---------\n",
            "  |   |  \n",
            "---------\n",
            "Player O, enter the cell number (1-9): 3\n",
            "X | O | O\n",
            "---------\n",
            "  | X |  \n",
            "---------\n",
            "  |   |  \n",
            "---------\n",
            "Player X, enter the cell number (1-9): 9\n",
            "X | O | O\n",
            "---------\n",
            "  | X |  \n",
            "---------\n",
            "  |   | X\n",
            "---------\n",
            "Player X wins!\n"
          ]
        }
      ],
      "source": [
        "def print_board(board):\n",
        "    for row in board:\n",
        "        print(\" | \".join(row))\n",
        "        print(\"-\" * 9)\n",
        "\n",
        "def print_cell_mapping():\n",
        "    mapping = [\n",
        "        \"1 | 2 | 3\",\n",
        "        \"- - - - - - -\",\n",
        "        \"4 | 5 | 6\",\n",
        "        \"- - - - - - -\",\n",
        "        \"7 | 8 | 9\"\n",
        "    ]\n",
        "    print(\"\\nCell Mapping:\")\n",
        "    for line in mapping:\n",
        "        print(line)\n",
        "    print()\n",
        "\n",
        "def check_winner(board):\n",
        "    for i in range(3):\n",
        "        if board[i][0] == board[i][1] == board[i][2] != \" \":\n",
        "            return board[i][0]\n",
        "        if board[0][i] == board[1][i] == board[2][i] != \" \":\n",
        "            return board[0][i]\n",
        "\n",
        "    if board[0][0] == board[1][1] == board[2][2] != \" \":\n",
        "        return board[0][0]\n",
        "    if board[0][2] == board[1][1] == board[2][0] != \" \":\n",
        "        return board[0][2]\n",
        "\n",
        "    return None\n",
        "\n",
        "def is_board_full(board):\n",
        "    return all(cell != \" \" for row in board for cell in row)\n",
        "\n",
        "def tic_tac_toe():\n",
        "    board = [[\" \" for _ in range(3)] for _ in range(3)]\n",
        "    current_player = \"X\"\n",
        "\n",
        "    print_cell_mapping()\n",
        "\n",
        "    while True:\n",
        "        print_board(board)\n",
        "        move = int(input(f\"Player {current_player}, enter the cell number (1-9): \")) - 1\n",
        "        row, col = divmod(move, 3)\n",
        "\n",
        "        if 0 <= move < 9 and board[row][col] == \" \":\n",
        "            board[row][col] = current_player\n",
        "        else:\n",
        "            print(\"Invalid move! Try again.\")\n",
        "            continue\n",
        "\n",
        "        winner = check_winner(board)\n",
        "        if winner:\n",
        "            print_board(board)\n",
        "            print(f\"Player {winner} wins!\")\n",
        "            break\n",
        "\n",
        "        if is_board_full(board):\n",
        "            print_board(board)\n",
        "            print(\"It's a draw!\")\n",
        "            break\n",
        "\n",
        "        current_player = \"O\" if current_player == \"X\" else \"X\"\n",
        "\n",
        "tic_tac_toe()"
      ]
    }
  ]
}