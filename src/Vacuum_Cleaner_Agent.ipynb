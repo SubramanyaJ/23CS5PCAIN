{
  "nbformat": 4,
  "nbformat_minor": 0,
  "metadata": {
    "colab": {
      "provenance": [],
      "authorship_tag": "ABX9TyNYYQ8ZA/cozCQqRotkFG+F",
      "include_colab_link": true
    },
    "kernelspec": {
      "name": "python3",
      "display_name": "Python 3"
    },
    "language_info": {
      "name": "python"
    }
  },
  "cells": [
    {
      "cell_type": "markdown",
      "metadata": {
        "id": "view-in-github",
        "colab_type": "text"
      },
      "source": [
        "<a href=\"https://colab.research.google.com/github/SubramanyaJ/23CS5PCAIN/blob/main/src/Vacuum_Cleaner_Agent.ipynb\" target=\"_parent\"><img src=\"https://colab.research.google.com/assets/colab-badge.svg\" alt=\"Open In Colab\"/></a>"
      ]
    },
    {
      "cell_type": "code",
      "execution_count": 8,
      "metadata": {
        "colab": {
          "base_uri": "https://localhost:8080/"
        },
        "id": "XLglU4q2aJKk",
        "outputId": "6b6b8006-3678-4325-d74c-a36988faa592"
      },
      "outputs": [
        {
          "output_type": "stream",
          "name": "stdout",
          "text": [
            "Initial room states: [1, 1]\n",
            "Cleaner starts in room: 2\n",
            "\n",
            "Cleaner is in room: 2\n",
            "Room is dirty.\n",
            "Clean? (y/n): y\n",
            "Room is now clean.\n",
            "Current room states: [1, 0]\n",
            "Current cost: 1\n",
            "Enter the room number to move to (1 or 2): 1\n",
            "\n",
            "Cleaner is in room: 1\n",
            "Room is dirty.\n",
            "Clean? (y/n): y\n",
            "Room is now clean.\n",
            "Current room states: [0, 0]\n",
            "Current cost: 3\n",
            "\n",
            "All rooms are clean. Program ends.\n",
            "Total cost: 3\n"
          ]
        }
      ],
      "source": [
        "import random\n",
        "\n",
        "rooms = [1, 1]\n",
        "print(f\"Initial room states: {rooms}\")\n",
        "\n",
        "cleaner_location = random.randint(0, 1)\n",
        "print(f\"Cleaner starts in room: {cleaner_location + 1}\")\n",
        "\n",
        "cleaned_count = 0\n",
        "cost_count = 0\n",
        "\n",
        "while cleaned_count < 2:\n",
        "    print(f\"\\nCleaner is in room: {cleaner_location + 1}\")\n",
        "\n",
        "    if rooms[cleaner_location]:\n",
        "        print(\"Room is dirty.\")\n",
        "        clean_confirm = input(\"Clean? (y/n): \")\n",
        "\n",
        "        if clean_confirm == 'y':\n",
        "            rooms[cleaner_location] = 0\n",
        "            cleaned_count += 1\n",
        "            cost_count += 1\n",
        "            print(\"Room is now clean.\")\n",
        "        else:\n",
        "            print(\"Room not cleaned.\")\n",
        "\n",
        "    else:\n",
        "        print(\"Room is already clean.\")\n",
        "\n",
        "    print(f\"Current room states: {rooms}\")\n",
        "    print(f\"Current cost: {cost_count}\")\n",
        "\n",
        "    if cleaned_count < 2:\n",
        "        while 1 == 1:\n",
        "          move_to = int(input(\"Enter the room number to move to (1 or 2): \")) - 1\n",
        "          if move_to in [0, 1]:\n",
        "            cleaner_location = move_to\n",
        "            cost_count += 1\n",
        "            break\n",
        "          else:\n",
        "            print(\"Invalid room number. Please enter 1 or 2.\")\n",
        "\n",
        "print(\"\\nAll rooms are clean. Program ends.\")\n",
        "print(f\"Total cost: {cost_count}\")"
      ]
    }
  ]
}