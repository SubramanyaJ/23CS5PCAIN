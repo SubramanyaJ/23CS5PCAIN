{
  "nbformat": 4,
  "nbformat_minor": 0,
  "metadata": {
    "colab": {
      "provenance": [],
      "authorship_tag": "ABX9TyNgOA0Sg0EU3h5rgu2tuvXf",
      "include_colab_link": true
    },
    "kernelspec": {
      "name": "python3",
      "display_name": "Python 3"
    },
    "language_info": {
      "name": "python"
    }
  },
  "cells": [
    {
      "cell_type": "markdown",
      "metadata": {
        "id": "view-in-github",
        "colab_type": "text"
      },
      "source": [
        "<a href=\"https://colab.research.google.com/github/SubramanyaJ/23CS5PCAIN/blob/main/src/9_FOL.ipynb\" target=\"_parent\"><img src=\"https://colab.research.google.com/assets/colab-badge.svg\" alt=\"Open In Colab\"/></a>"
      ]
    },
    {
      "cell_type": "code",
      "execution_count": 1,
      "metadata": {
        "colab": {
          "base_uri": "https://localhost:8080/"
        },
        "id": "EEOGcATdJ728",
        "outputId": "f141c0df-1f06-4242-a32e-72494b9479d1"
      },
      "outputs": [
        {
          "output_type": "stream",
          "name": "stdout",
          "text": [
            "Proved by resolution: John likes peanuts.\n"
          ]
        }
      ],
      "source": [
        "from itertools import combinations\n",
        "\n",
        "def unify(x, y, theta=None):\n",
        "    if theta is None:\n",
        "        theta = {}\n",
        "    if x == y:\n",
        "        return theta\n",
        "    elif isinstance(x, str) and x.islower():\n",
        "        return unify_var(x, y, theta)\n",
        "    elif isinstance(y, str) and y.islower():\n",
        "        return unify_var(y, x, theta)\n",
        "    elif isinstance(x, tuple) and isinstance(y, tuple) and len(x) == len(y):\n",
        "        return unify(x[1:], y[1:], unify(x[0], y[0], theta))\n",
        "    else:\n",
        "        return None\n",
        "\n",
        "def unify_var(var, x, theta):\n",
        "    if var in theta:\n",
        "        return unify(theta[var], x, theta)\n",
        "    elif x in theta:\n",
        "        return unify(var, theta[x], theta)\n",
        "    else:\n",
        "        theta[var] = x\n",
        "        return theta\n",
        "\n",
        "def negate(predicate):\n",
        "    if isinstance(predicate, tuple) and predicate[0] == 'not':\n",
        "        return predicate[1]\n",
        "    else:\n",
        "        return ('not', predicate)\n",
        "\n",
        "def substitute_predicate(predicate, theta):\n",
        "    if isinstance(predicate, str):\n",
        "        return theta.get(predicate, predicate)\n",
        "    elif isinstance(predicate, tuple):\n",
        "        return (predicate[0],) + tuple(theta.get(arg, arg) for arg in predicate[1:])\n",
        "    return predicate\n",
        "\n",
        "def substitute(clause, theta):\n",
        "    return {substitute_predicate(p, theta) for p in clause}\n",
        "\n",
        "def resolve(clause1, clause2):\n",
        "    resolvents = []\n",
        "    for p1 in clause1:\n",
        "        for p2 in clause2:\n",
        "            theta = unify(p1, negate(p2))\n",
        "            if theta is not None:\n",
        "                new_clause = (substitute(clause1, theta) | substitute(clause2, theta)) - {p1, p2}\n",
        "                resolvents.append(frozenset(new_clause))\n",
        "    return resolvents\n",
        "\n",
        "def resolution(kb, query):\n",
        "    negated_query = frozenset({negate(query)})\n",
        "    clauses = kb | {negated_query}\n",
        "    new = set()\n",
        "\n",
        "    while True:\n",
        "        pairs = list(combinations(clauses, 2))\n",
        "        for (ci, cj) in pairs:\n",
        "            resolvents = resolve(ci, cj)\n",
        "            if frozenset() in resolvents:\n",
        "                return True\n",
        "            new |= set(resolvents)\n",
        "        if new.issubset(clauses):\n",
        "            return False\n",
        "        clauses |= new\n",
        "\n",
        "# Knowledge Base\n",
        "kb = {\n",
        "    frozenset({('not', ('Food', 'x')), ('Likes', 'John', 'x')}),  # a\n",
        "    frozenset({('Food', 'Apple')}),  # b\n",
        "    frozenset({('Food', 'Vegetables')}),  # b\n",
        "    frozenset({('not', ('Eats', 'x', 'y')), ('Killed', 'x'), ('Food', 'y')}),  # c\n",
        "    frozenset({('Eats', 'Anil', 'Peanuts')}),  # d\n",
        "    frozenset({('Alive', 'Anil')}),  # d\n",
        "    frozenset({('not', ('Eats', 'Anil', 'x')), ('Eats', 'Harry', 'x')}),  # e\n",
        "    frozenset({('not', ('Alive', 'x')), ('not', ('Killed', 'x'))}),  # f\n",
        "    frozenset({('Killed', 'x'), ('Alive', 'x')}),  # g\n",
        "}\n",
        "\n",
        "# Query: Prove John likes peanuts\n",
        "query = ('Likes', 'John', 'Peanuts')\n",
        "\n",
        "# Run resolution\n",
        "result = resolution(kb, query)\n",
        "\n",
        "if result:\n",
        "    print(\"Proved by resolution: John likes peanuts.\")\n",
        "else:\n",
        "    print(\"Cannot prove that John likes peanuts.\")\n"
      ]
    }
  ]
}