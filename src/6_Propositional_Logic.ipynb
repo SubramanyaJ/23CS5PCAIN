{
  "nbformat": 4,
  "nbformat_minor": 0,
  "metadata": {
    "colab": {
      "provenance": [],
      "authorship_tag": "ABX9TyOVSnWbcxcHZD0X2bWB+AFU",
      "include_colab_link": true
    },
    "kernelspec": {
      "name": "python3",
      "display_name": "Python 3"
    },
    "language_info": {
      "name": "python"
    }
  },
  "cells": [
    {
      "cell_type": "markdown",
      "metadata": {
        "id": "view-in-github",
        "colab_type": "text"
      },
      "source": [
        "<a href=\"https://colab.research.google.com/github/SubramanyaJ/23CS5PCAIN/blob/main/src/6_Propositional_Login.ipynb\" target=\"_parent\"><img src=\"https://colab.research.google.com/assets/colab-badge.svg\" alt=\"Open In Colab\"/></a>"
      ]
    },
    {
      "cell_type": "code",
      "execution_count": 17,
      "metadata": {
        "colab": {
          "base_uri": "https://localhost:8080/"
        },
        "id": "Atpoqo8L1p_D",
        "outputId": "70b3468d-99fb-4c7d-9024-332f79ab6710"
      },
      "outputs": [
        {
          "output_type": "stream",
          "name": "stdout",
          "text": [
            "False True True\n",
            "True False False\n",
            "True True False\n",
            "True True True\n"
          ]
        }
      ],
      "source": [
        "from itertools import product\n",
        "import pandas as pd\n",
        "\n",
        "def KB(combo):\n",
        "  a,b,c = combo\n",
        "  return ((a or c) and (b or not c))\n",
        "\n",
        "def alpha(combo):\n",
        "  a, b, c = combo\n",
        "  return a or b\n",
        "\n",
        "\n",
        "n = 3\n",
        "binary = [list(i) for i in product([False, True], repeat=n)]\n",
        "base = [KB(x) for x in binary]\n",
        "alpha_values = [alpha(x) for x in binary]\n",
        "\n",
        "result = [(base[i] and alpha_values[i]) for i in range(2**n)]\n",
        "\n",
        "\n",
        "df = pd.DataFrame(binary, columns=[f\"V{i+1}\" for i in range(n)])\n",
        "\n",
        "df['KB'] = base\n",
        "df['Alpha'] = alpha_values\n",
        "df['Final'] = result\n",
        "df\n",
        "for index, row in df[df['Final'] == True].iterrows():\n",
        "  print(row['V1'], row['V2'], row['V3'])"
      ]
    }
  ]
}