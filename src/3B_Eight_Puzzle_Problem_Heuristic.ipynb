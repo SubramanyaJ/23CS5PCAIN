{
  "nbformat": 4,
  "nbformat_minor": 0,
  "metadata": {
    "colab": {
      "provenance": [],
      "authorship_tag": "ABX9TyOi642i5vJOJgdz9okm8/oL",
      "include_colab_link": true
    },
    "kernelspec": {
      "name": "python3",
      "display_name": "Python 3"
    },
    "language_info": {
      "name": "python"
    }
  },
  "cells": [
    {
      "cell_type": "markdown",
      "metadata": {
        "id": "view-in-github",
        "colab_type": "text"
      },
      "source": [
        "<a href=\"https://colab.research.google.com/github/SubramanyaJ/23CS5PCAIN/blob/main/src/3B_Eight_Puzzle_Problem_Heuristic.ipynb\" target=\"_parent\"><img src=\"https://colab.research.google.com/assets/colab-badge.svg\" alt=\"Open In Colab\"/></a>"
      ]
    },
    {
      "cell_type": "code",
      "execution_count": 1,
      "metadata": {
        "colab": {
          "base_uri": "https://localhost:8080/"
        },
        "id": "3ggciFPYghy_",
        "outputId": "5b064661-57cc-441c-e4a2-6f7d9ff262a4"
      },
      "outputs": [
        {
          "output_type": "stream",
          "name": "stdout",
          "text": [
            "Initial State:\n",
            "[1, 2, 3]\n",
            "[0, 4, 6]\n",
            "[7, 5, 8]\n",
            "----------\n",
            "Solution Found:\n",
            "[1, 2, 3]\n",
            "[0, 4, 6]\n",
            "[7, 5, 8]\n",
            "----------\n",
            "[1, 2, 3]\n",
            "[4, 0, 6]\n",
            "[7, 5, 8]\n",
            "----------\n",
            "[1, 2, 3]\n",
            "[4, 5, 6]\n",
            "[7, 0, 8]\n",
            "----------\n",
            "[1, 2, 3]\n",
            "[4, 5, 6]\n",
            "[7, 8, 0]\n",
            "----------\n",
            "Complete\n"
          ]
        }
      ],
      "source": [
        "import copy\n",
        "\n",
        "def swap(arr, x1, y1, x2, y2):\n",
        "    arr[x1][y1], arr[x2][y2] = arr[x2][y2], arr[x1][y1]\n",
        "\n",
        "def get_zero_pos(arr):\n",
        "    for r in range(len(arr)):\n",
        "        for c in range(len(arr[r])):\n",
        "            if arr[r][c] == 0:\n",
        "                return [r, c]\n",
        "    return None\n",
        "\n",
        "def print_puzzle(arr):\n",
        "    for row in arr:\n",
        "        print(row)\n",
        "    print(\"-\" * 10)\n",
        "\n",
        "def count_mismatched_tiles(current_arr, final_arr):\n",
        "    count = 0\n",
        "    for r in range(len(current_arr)):\n",
        "        for c in range(len(current_arr[r])):\n",
        "            if current_arr[r][c] != final_arr[r][c] and current_arr[r][c] != 0:\n",
        "                count += 1\n",
        "    return count\n",
        "\n",
        "def solve_puzzle_heuristic(initial_arr, final_arr):\n",
        "    open_list = [(initial_arr, [initial_arr], get_zero_pos(initial_arr))]\n",
        "    closed_set = set()\n",
        "    moves = {'up': (-1, 0), 'down': (1, 0), 'left': (0, -1), 'right': (0, 1)}\n",
        "    while open_list:\n",
        "        open_list.sort(key=lambda item: count_mismatched_tiles(item[0], final_arr))\n",
        "        current_arr, path, zero_pos = open_list.pop(0)\n",
        "        if current_arr == final_arr:\n",
        "            return path\n",
        "        current_tuple = tuple(tuple(row) for row in current_arr)\n",
        "        if current_tuple in closed_set:\n",
        "            continue\n",
        "        closed_set.add(current_tuple)\n",
        "        for move, (dx, dy) in moves.items():\n",
        "            new_x, new_y = zero_pos[0] + dx, zero_pos[1] + dy\n",
        "            if 0 <= new_x < 3 and 0 <= new_y < 3:\n",
        "                new_arr = copy.deepcopy(current_arr)\n",
        "                swap(new_arr, zero_pos[0], zero_pos[1], new_x, new_y)\n",
        "                new_path = path + [new_arr]\n",
        "                new_zero_pos = [new_x, new_y]\n",
        "                open_list.append((new_arr, new_path, new_zero_pos))\n",
        "    return None\n",
        "\n",
        "initial_state = [[1, 2, 3], [0, 4, 6], [7, 5, 8]]\n",
        "final_state = [[1, 2, 3], [4, 5, 6], [7, 8, 0]]\n",
        "\n",
        "print(\"Initial State:\")\n",
        "print_puzzle(initial_state)\n",
        "\n",
        "solution_path = solve_puzzle_heuristic(initial_state, final_state)\n",
        "\n",
        "if solution_path:\n",
        "    print(\"Solution Found:\")\n",
        "    for step in solution_path:\n",
        "        print_puzzle(step)\n",
        "    print(\"Complete\")\n",
        "else:\n",
        "    print(\"No solution exists for this puzzle.\")"
      ]
    }
  ]
}