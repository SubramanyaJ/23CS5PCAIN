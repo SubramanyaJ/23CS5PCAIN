{
  "nbformat": 4,
  "nbformat_minor": 0,
  "metadata": {
    "colab": {
      "provenance": [],
      "authorship_tag": "ABX9TyN6mqjo66MGI1MTtuzqd4pF",
      "include_colab_link": true
    },
    "kernelspec": {
      "name": "python3",
      "display_name": "Python 3"
    },
    "language_info": {
      "name": "python"
    }
  },
  "cells": [
    {
      "cell_type": "markdown",
      "metadata": {
        "id": "view-in-github",
        "colab_type": "text"
      },
      "source": [
        "<a href=\"https://colab.research.google.com/github/SubramanyaJ/23CS5PCAIN/blob/main/src/4_Hill_Climbing.ipynb\" target=\"_parent\"><img src=\"https://colab.research.google.com/assets/colab-badge.svg\" alt=\"Open In Colab\"/></a>"
      ]
    },
    {
      "cell_type": "code",
      "metadata": {
        "colab": {
          "base_uri": "https://localhost:8080/"
        },
        "id": "7d244052",
        "outputId": "644f61a1-e0c9-433b-b5c4-9bcc4e7e5fc0"
      },
      "source": [
        "import random\n",
        "\n",
        "def calculate_cost(state):\n",
        "    \"\"\"Calculates the number of attacking queen pairs.\"\"\"\n",
        "    n = len(state)\n",
        "    cost = 0\n",
        "    for i in range(n):\n",
        "        for j in range(i + 1, n):\n",
        "            # Check for attacks in the same row or on diagonals\n",
        "            if state[i] == state[j] or abs(state[i] - state[j]) == abs(i - j):\n",
        "                cost += 1\n",
        "    return cost\n",
        "\n",
        "def generate_random_state(n=4):\n",
        "    \"\"\"Generates a random initial state.\"\"\"\n",
        "    return [random.randint(0, n - 1) for _ in range(n)]\n",
        "\n",
        "def generate_neighbours(state):\n",
        "    \"\"\"Generates all neighbours by swapping column positions.\"\"\"\n",
        "    n = len(state)\n",
        "    neighbours = []\n",
        "    for i in range(n):\n",
        "        for j in range(i + 1, n):\n",
        "            neighbour = list(state)\n",
        "            neighbour[i], neighbour[j] = neighbour[j], neighbour[i]\n",
        "            neighbours.append(neighbour)\n",
        "    return neighbours\n",
        "\n",
        "def hill_climbing_search():\n",
        "    \"\"\"Performs hill-climbing search for the 4-Queens problem.\"\"\"\n",
        "    current_state = generate_random_state()\n",
        "    current_cost = calculate_cost(current_state)\n",
        "\n",
        "    print(\"Initial State:\", current_state, \"Cost:\", current_cost)\n",
        "\n",
        "    while current_cost > 0:\n",
        "        neighbours = generate_neighbours(current_state)\n",
        "        best_neighbour = None\n",
        "        best_neighbour_cost = current_cost\n",
        "\n",
        "        for neighbour in neighbours:\n",
        "            neighbour_cost = calculate_cost(neighbour)\n",
        "            if neighbour_cost < best_neighbour_cost:\n",
        "                best_neighbour_cost = neighbour_cost\n",
        "                best_neighbour = neighbour\n",
        "\n",
        "        if best_neighbour_cost < current_cost:\n",
        "            current_state = best_neighbour\n",
        "            current_cost = best_neighbour_cost\n",
        "            print(\"Chosen Neighbour:\", current_state, \"Cost:\", current_cost)\n",
        "        else:\n",
        "            print(\"No neighbour has a lower cost. Stopping.\")\n",
        "            break\n",
        "\n",
        "    if current_cost == 0:\n",
        "        print(\"Goal reached! Solution:\", current_state)\n",
        "\n",
        "# Run the hill-climbing search\n",
        "hill_climbing_search()"
      ],
      "execution_count": 10,
      "outputs": [
        {
          "output_type": "stream",
          "name": "stdout",
          "text": [
            "Initial State: [0, 1, 2, 3] Cost: 6\n",
            "Chosen Neighbour: [1, 0, 2, 3] Cost: 2\n",
            "Chosen Neighbour: [2, 0, 1, 3] Cost: 1\n",
            "Chosen Neighbour: [2, 0, 3, 1] Cost: 0\n",
            "Goal reached! Solution: [2, 0, 3, 1]\n"
          ]
        }
      ]
    }
  ]
}