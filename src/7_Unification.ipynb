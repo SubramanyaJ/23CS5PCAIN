{
  "nbformat": 4,
  "nbformat_minor": 0,
  "metadata": {
    "colab": {
      "provenance": [],
      "authorship_tag": "ABX9TyOfkb7Ik0ivfBkXtR6xr8bN",
      "include_colab_link": true
    },
    "kernelspec": {
      "name": "python3",
      "display_name": "Python 3"
    },
    "language_info": {
      "name": "python"
    }
  },
  "cells": [
    {
      "cell_type": "markdown",
      "metadata": {
        "id": "view-in-github",
        "colab_type": "text"
      },
      "source": [
        "<a href=\"https://colab.research.google.com/github/SubramanyaJ/23CS5PCAIN/blob/main/src/7_Unification.ipynb\" target=\"_parent\"><img src=\"https://colab.research.google.com/assets/colab-badge.svg\" alt=\"Open In Colab\"/></a>"
      ]
    },
    {
      "cell_type": "code",
      "execution_count": 1,
      "metadata": {
        "colab": {
          "base_uri": "https://localhost:8080/"
        },
        "id": "UC8r77pCItLW",
        "outputId": "37753311-49b0-4ec2-c60c-3c38d5da4ba9"
      },
      "outputs": [
        {
          "output_type": "stream",
          "name": "stdout",
          "text": [
            "Most General Unifier (MGU):\n",
            "{'Z': 'b', 'X': ('f', 'Y'), 'Y': ('g', 'Z')}\n"
          ]
        }
      ],
      "source": [
        "class UnificationError(Exception):\n",
        "    pass\n",
        "\n",
        "def occurs_check(var, term):\n",
        "    \"\"\"Check if a variable occurs in a term (to prevent infinite recursion).\"\"\"\n",
        "    if var == term:\n",
        "        return True\n",
        "    if isinstance(term, tuple):  # Term is a compound (function term)\n",
        "        return any(occurs_check(var, subterm) for subterm in term)\n",
        "    return False\n",
        "\n",
        "def unify(term1, term2, substitutions=None):\n",
        "    \"\"\"Try to unify two terms, return the MGU (Most General Unifier).\"\"\"\n",
        "    if substitutions is None:\n",
        "        substitutions = {}\n",
        "\n",
        "    # If both terms are equal, no further substitution is needed\n",
        "    if term1 == term2:\n",
        "        return substitutions\n",
        "\n",
        "    # If term1 is a variable, we substitute it with term2\n",
        "    elif isinstance(term1, str) and term1.isupper():\n",
        "        # If term1 is already substituted, recurse\n",
        "        if term1 in substitutions:\n",
        "            return unify(substitutions[term1], term2, substitutions)\n",
        "        elif occurs_check(term1, term2):\n",
        "            raise UnificationError(f\"Occurs check fails: {term1} in {term2}\")\n",
        "        else:\n",
        "            substitutions[term1] = term2\n",
        "            return substitutions\n",
        "\n",
        "    # If term2 is a variable, we substitute it with term1\n",
        "    elif isinstance(term2, str) and term2.isupper():\n",
        "        # If term2 is already substituted, recurse\n",
        "        if term2 in substitutions:\n",
        "            return unify(term1, substitutions[term2], substitutions)\n",
        "        elif occurs_check(term2, term1):\n",
        "            raise UnificationError(f\"Occurs check fails: {term2} in {term1}\")\n",
        "        else:\n",
        "            substitutions[term2] = term1\n",
        "            return substitutions\n",
        "\n",
        "    # If both terms are compound (i.e., functions), unify their parts recursively\n",
        "    elif isinstance(term1, tuple) and isinstance(term2, tuple):\n",
        "        # Ensure that both terms have the same \"functor\" and number of arguments\n",
        "        # if len(term1) != len(term2):\n",
        "        #     raise UnificationError(f\"Function arity mismatch: {term1} vs {term2}\")\n",
        "\n",
        "        for subterm1, subterm2 in zip(term1, term2):\n",
        "            substitutions = unify(subterm1, subterm2, substitutions)\n",
        "\n",
        "        return substitutions\n",
        "\n",
        "    else:\n",
        "        raise UnificationError(f\"Cannot unify: {term1} with {term2}\")\n",
        "\n",
        "# Define the terms as tuples\n",
        "term1 = ('p', 'b', 'X', ('f', ('g', 'Z')))\n",
        "term2 = ('p', 'Z', ('f', 'Y'), ('f', 'Y'))\n",
        "\n",
        "try:\n",
        "    # Find the MGU\n",
        "    result = unify(term1, term2)\n",
        "    print(\"Most General Unifier (MGU):\")\n",
        "    print(result)\n",
        "except UnificationError as e:\n",
        "    print(f\"Unification failed: {e}\")"
      ]
    }
  ]
}