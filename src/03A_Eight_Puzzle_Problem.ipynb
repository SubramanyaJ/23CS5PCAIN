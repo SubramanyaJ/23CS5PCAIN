{
  "nbformat": 4,
  "nbformat_minor": 0,
  "metadata": {
    "colab": {
      "provenance": [],
      "authorship_tag": "ABX9TyPNfFDUjxsHvqenxqVa+m8t",
      "include_colab_link": true
    },
    "kernelspec": {
      "name": "python3",
      "display_name": "Python 3"
    },
    "language_info": {
      "name": "python"
    }
  },
  "cells": [
    {
      "cell_type": "markdown",
      "metadata": {
        "id": "view-in-github",
        "colab_type": "text"
      },
      "source": [
        "<a href=\"https://colab.research.google.com/github/SubramanyaJ/23CS5PCAIN/blob/main/src/03A_Eight_Puzzle_Problem.ipynb\" target=\"_parent\"><img src=\"https://colab.research.google.com/assets/colab-badge.svg\" alt=\"Open In Colab\"/></a>"
      ]
    },
    {
      "cell_type": "code",
      "execution_count": 4,
      "metadata": {
        "colab": {
          "base_uri": "https://localhost:8080/"
        },
        "id": "3ggciFPYghy_",
        "outputId": "9616f5db-6f56-46b5-c26e-04546e3f9358"
      },
      "outputs": [
        {
          "output_type": "stream",
          "name": "stdout",
          "text": [
            "[1, 2, 3]\n",
            "[0, 4, 6]\n",
            "[7, 5, 8]\n",
            "----------\n",
            "Enter move (up, down, left, right): right\n",
            "[1, 2, 3]\n",
            "[4, 0, 6]\n",
            "[7, 5, 8]\n",
            "----------\n",
            "Enter move (up, down, left, right): down\n",
            "[1, 2, 3]\n",
            "[4, 5, 6]\n",
            "[7, 0, 8]\n",
            "----------\n",
            "Enter move (up, down, left, right): right\n",
            "Complete\n"
          ]
        }
      ],
      "source": [
        "def swap(arr, x1, y1, x2, y2):\n",
        "    arr[x1][y1], arr[x2][y2] = arr[x2][y2], arr[x1][y1]\n",
        "\n",
        "arr = [[1, 2, 3], [0, 4, 6], [7, 5, 8]]\n",
        "final = [[1, 2, 3], [4, 5, 6], [7, 8, 0]]\n",
        "\n",
        "zero_pos = [1, 0]\n",
        "\n",
        "def print_puzzle(arr):\n",
        "    for row in arr:\n",
        "        print(row)\n",
        "    print(\"-\" * 10)\n",
        "\n",
        "moves = {\n",
        "    'up': (-1, 0),\n",
        "    'down': (1, 0),\n",
        "    'left': (0, -1),\n",
        "    'right': (0, 1)\n",
        "}\n",
        "\n",
        "while final != arr:\n",
        "    print_puzzle(arr)\n",
        "    move = input(\"Enter move (up, down, left, right): \").lower()\n",
        "\n",
        "    dx, dy = moves[move]\n",
        "    new_x, new_y = zero_pos[0] + dx, zero_pos[1] + dy\n",
        "\n",
        "    if 0 <= new_x < 3 and 0 <= new_y < 3:\n",
        "      swap(arr, zero_pos[0], zero_pos[1], new_x, new_y)\n",
        "      zero_pos[0], zero_pos[1] = new_x, new_y\n",
        "    else:\n",
        "      print(\"Invalid move.\")\n",
        "print(\"Complete\")"
      ]
    }
  ]
}